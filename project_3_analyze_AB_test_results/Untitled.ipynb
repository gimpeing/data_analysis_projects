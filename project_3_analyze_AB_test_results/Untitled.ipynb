{
 "cells": [
  {
   "cell_type": "markdown",
   "metadata": {},
   "source": [
    "# Project 3: A/B Test\n",
    "\n",
    "In this project, I worked on the test results of an A/B test run by an e-commerce website. The company has developed a new web page in order to try and increase the number of users who \"convert,\" meaning the number of users who decide to pay for the company's product.   \n",
    "My goal is to work through this notebook to help the company understand if they should implement this new page, keep the old page, or perhaps run the experiment longer to make their decision.\n",
    "\n",
    "## Contents:\n",
    "### Part 1 : Probability\n",
    "Calculate the observed statistics, that is the propability of conversion from the control and experimental group. Control group is given the old page, and experimental group is given the new page.\n",
    "\n",
    "### Part 2 : A/B Test\n",
    "Define the hypothesis: \n",
    "$$H_0: p_{new} - p_{old} \\leq 0 $$\n",
    "$$H_1: p_{new} - p_{old} > 0 $$\n",
    "\n",
    "Simulate the sampling distribution for difference in **converted** between the two pages under the null. Compute the p-value to determine the statistical significance of the observed difference statistics. \n",
    "\n",
    "### Part 3 : Logistic Regression\n",
    "Using the **statsmodels** to fit the logistic model to see if there is a significant difference in conversion based on the landing page a user receives, user's country of origin and the interaction term among the two.\n",
    "\n",
    "## Conclusion:\n",
    "The **A/B test** is carried out at Type I error rate (or alpha risk) of 5%.\n",
    "The results of the p-value is 0.91, that is > 0.05, which we fail to reject the null-hypothesis as the statistic is likely from the null. This suggests that the converted rate with the new page is truely less than or equal to the converted rate with the old page, within the experiment duration of 21 days. \n",
    "\n",
    "**Logistic regression** is carried out to consider the independent variables that influence whether or not an individual converts. Results found out that the landing page, and country of user and the interaction term among the two are not signifianct in helping to predict if a user is converted or not. The high p-value suggests that we fail to reject the null hypothesis.\n",
    "\n",
    "As summary, data from the 21 days of experiment, roughly equal number of users from control (old page) and experiment (new page) groups shows conclude that insufficient evidence of the new treatment page leads to more conversions."
   ]
  },
  {
   "cell_type": "code",
   "execution_count": null,
   "metadata": {},
   "outputs": [],
   "source": []
  }
 ],
 "metadata": {
  "kernelspec": {
   "display_name": "Python 3",
   "language": "python",
   "name": "python3"
  },
  "language_info": {
   "codemirror_mode": {
    "name": "ipython",
    "version": 3
   },
   "file_extension": ".py",
   "mimetype": "text/x-python",
   "name": "python",
   "nbconvert_exporter": "python",
   "pygments_lexer": "ipython3",
   "version": "3.7.4"
  }
 },
 "nbformat": 4,
 "nbformat_minor": 2
}
